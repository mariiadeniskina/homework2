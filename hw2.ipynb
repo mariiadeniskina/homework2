{
 "cells": [
  {
   "cell_type": "code",
   "execution_count": 15,
   "metadata": {},
   "outputs": [],
   "source": [
    "def f(a,b,c):\n",
    "    d = b**2-4*a*c\n",
    "    x1 = (- b + d**(0.5)) / (2*a)\n",
    "    x2 = (- b - d**(0.5)) / (2*a)\n",
    "    if (x1 == 0 or x2 == 0) and (c != 0):\n",
    "        if x1 == 0:\n",
    "            x1 = - c / b\n",
    "        if x2 == 0:\n",
    "            x2 = - c / b\n",
    "    return x1, x2        "
   ]
  },
  {
   "cell_type": "code",
   "execution_count": 19,
   "metadata": {},
   "outputs": [
    {
     "name": "stdout",
     "output_type": "stream",
     "text": [
      "(-1.0, -3.0)\n"
     ]
    }
   ],
   "source": [
    "print(f(1,4,3))"
   ]
  },
  {
   "cell_type": "code",
   "execution_count": 20,
   "metadata": {},
   "outputs": [
    {
     "name": "stdout",
     "output_type": "stream",
     "text": [
      "(-1.0, -1.0)\n"
     ]
    }
   ],
   "source": [
    "print(f(1,2,1))"
   ]
  },
  {
   "cell_type": "code",
   "execution_count": 21,
   "metadata": {},
   "outputs": [
    {
     "name": "stdout",
     "output_type": "stream",
     "text": [
      "((-0.2499999999999999+1.984313483298443j), (-0.2500000000000001-1.984313483298443j))\n"
     ]
    }
   ],
   "source": [
    "print(f(1,0.5,4))"
   ]
  },
  {
   "cell_type": "code",
   "execution_count": 22,
   "metadata": {},
   "outputs": [
    {
     "name": "stdout",
     "output_type": "stream",
     "text": [
      "(-3e-10, -10000000000.0)\n"
     ]
    }
   ],
   "source": [
    "print(f(1,1e10,3))"
   ]
  },
  {
   "cell_type": "code",
   "execution_count": 23,
   "metadata": {},
   "outputs": [
    {
     "name": "stdout",
     "output_type": "stream",
     "text": [
      "(10000000000.0, 4e-10)\n"
     ]
    }
   ],
   "source": [
    "print(f(1,-1e10,4))"
   ]
  },
  {
   "cell_type": "code",
   "execution_count": null,
   "metadata": {},
   "outputs": [],
   "source": []
  }
 ],
 "metadata": {
  "kernelspec": {
   "display_name": "Python 3",
   "language": "python",
   "name": "python3"
  },
  "language_info": {
   "codemirror_mode": {
    "name": "ipython",
    "version": 3
   },
   "file_extension": ".py",
   "mimetype": "text/x-python",
   "name": "python",
   "nbconvert_exporter": "python",
   "pygments_lexer": "ipython3",
   "version": "3.7.1"
  }
 },
 "nbformat": 4,
 "nbformat_minor": 2
}
